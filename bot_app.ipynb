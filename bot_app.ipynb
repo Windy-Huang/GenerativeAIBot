{
 "cells": [
  {
   "cell_type": "code",
   "execution_count": 10,
   "id": "55e9e1ae-73f4-443d-9056-dff8c3218cd5",
   "metadata": {
    "tags": []
   },
   "outputs": [
    {
     "name": "stdout",
     "output_type": "stream",
     "text": [
      "Note: you may need to restart the kernel to use updated packages.\n",
      "Note: you may need to restart the kernel to use updated packages.\n",
      "Note: you may need to restart the kernel to use updated packages.\n",
      "Note: you may need to restart the kernel to use updated packages.\n",
      "Note: you may need to restart the kernel to use updated packages.\n",
      "\n",
      "Manchester is the largest and most populous city in New Hampshire.\n"
     ]
    }
   ],
   "source": [
    "%pip install streamlit --quiet\n",
    "%run ~/home/jovyan/GenerativeAIBot/bot_lib.ipynb"
   ]
  },
  {
   "cell_type": "code",
   "execution_count": 11,
   "id": "67882a53-7820-4ac5-aa8e-ace4ab7cc14f",
   "metadata": {},
   "outputs": [],
   "source": [
    "import streamlit as st #all streamlit commands will be available through the \"st\" alias"
   ]
  },
  {
   "cell_type": "code",
   "execution_count": 13,
   "id": "d56e7301-a7ed-4c5e-a060-2952f1b3fb58",
   "metadata": {},
   "outputs": [],
   "source": [
    "st.set_page_config(page_title=\"<b>HUNT Your Best Candidate<b>\") #HTML title\n",
    "title_style = '<p style=\"font-family:Courier; color:Black; font-size: 20px;\">MINIMIZE Work, MAXIMIZE Efficiency!</p>:white_check_mark:'\n",
    "\n",
    "st.markdown(title_style, unsafe_allow_html=True)\n",
    "st.title(\"HUNT Your Best Candidate\") #page title\n",
    "\n",
    "st.subheader('', divider='rainbow')\n",
    "\n",
    "\n",
    "##upload error\n",
    "input_text = st.text_area(\"Input the job description\", label_visibility=\"collapsed\") #display a multiline text box with no label\n",
    "\n",
    "st.subheader('', divider='rainbow')\n",
    "st.caption('Upload the resumes of the available candidates. :sunglasses:')\n",
    "uploaded_files = st.file_uploader(\"Choose a PDF file\", accept_multiple_files=True, label_visibility=\"collapsed\")\n",
    "i = 0\n",
    "for uploaded_file in uploaded_files:\n",
    "    bytes_data = uploaded_file.read()\n",
    "    st.write(\"filename:\", uploaded_file.name)\n",
    "    st.write(bytes_data)\n",
    "go_button = st.button(\"Run\", type=\"primary\") #display a primary button\n",
    "\n",
    "if go_button: #code in this if block will be run when the button is clicked\n",
    "    \n",
    "    with st.spinner(\"In progress...be patient\"): #show a spinner while the code in this with block runs\n",
    "        response_content = glib.get_text_response(input_content=input_text) #call the model through the supporting library\n",
    "        \n",
    "        st.write(response_content) #display the response content"
   ]
  }
 ],
 "metadata": {
  "kernelspec": {
   "display_name": "Python 3 (ipykernel)",
   "language": "python",
   "name": "python3"
  },
  "language_info": {
   "codemirror_mode": {
    "name": "ipython",
    "version": 3
   },
   "file_extension": ".py",
   "mimetype": "text/x-python",
   "name": "python",
   "nbconvert_exporter": "python",
   "pygments_lexer": "ipython3",
   "version": "3.10.8"
  }
 },
 "nbformat": 4,
 "nbformat_minor": 5
}
